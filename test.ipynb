{
 "cells": [
  {
   "cell_type": "markdown",
   "metadata": {},
   "source": [
    "# Effet of vapor voume fraction \n",
    "## flow regime\n",
    "At the moments of compression, if it's still in bubble flow regime, possible explosion.\n",
    "## competition between \n",
    "- high vapor volume fraction represents more bubbes as well as stronger cooling effect\n",
    "- higher $\\alpha_V$ represents bigger velocity of liquid as well as bigger fragmentation rate \n",
    "\n",
    "## leading to a pressure plate for midium vapor volum fraction.\n",
    "\n",
    "## Transition flow\n",
    "> is a \"fake\" (do not really exist physicaly) flow zone supposed to be composed by two independent (no interaction between these two regimes) regimes with specific composition. Different constutive/closure laws for these two regimes are used and then weighted by volume fraction of both regime to evaluate possible temperature, pressure and velocity filed in this flow zone.\n",
    "---"
   ]
  },
  {
   "cell_type": "markdown",
   "metadata": {},
   "source": [
    "# paper nots about [Comparative review of FCI computer models used in the OECD-SERENA program](https://publikationen.bibliothek.kit.edu/240063805)"
   ]
  },
  {
   "cell_type": "markdown",
   "metadata": {},
   "source": [
    "## abstract \n",
    "a summary of this review and presents the most important models and differences between the FCI codes. These differences concern:\n",
    "- the fuel numerical description; \n",
    "- the fuel fragmentation; \n",
    "- the flow map for multiphase, multi-component fluid systems;\n",
    "- the heat and mass transfers between fuel and coolant. "
   ]
  },
  {
   "cell_type": "markdown",
   "metadata": {},
   "source": [
    "## Introduction\n",
    "- basic phenomena related to the void: \n",
    "   - flow patterns \n",
    "   - heat and mass transfers from fuel to coolant.\n",
    "      -  effective partition of the fuel in the coolant \n",
    "      - ***In transient regime, the quantity of bubbles in bubbly flow regime could also be important***\n",
    "      - ***only the arrival of shock wave, we should consider the void during all the fragmentaion process.***"
   ]
  },
  {
   "cell_type": "markdown",
   "metadata": {},
   "source": [
    "## Flow map\n",
    "\n",
    "The flow map has also an important influence on dynamical aspects, thus influencing fragmentation and then heat transfers.\n",
    "\n",
    "The flow configurations (regimes) are deduced from $\\alpha$ relative void fraction.\n",
    "- $\\alpha < \\alpha _B$: bubbly flow, liquid coolant is continuous\n",
    "and all fuel drops are in contact with water (typically in film boiling)\n",
    "\n",
    "- $\\alpha > \\alpha _D$: droplet flow, gas is continuous with liquid\n",
    "droplets. Fuel drops are in general considered in contact with the gas (although heat transfer by direct contact with impinging water drops is possible and treated in various ways).\n",
    "\n",
    "- between the two: transition flow, two wayes to deal with this \n",
    "   - transitional flow is a composition of a bubbly part and a droplet one. The fuel drops are distributed, at first order, proportionally into water and gas. There is either a real description of a bubbly and a droplet part, as in MC3D, or simply modifications of the constitutive laws by essentially linear interpolations, to account for the transition.\n",
    "   \n",
    "   -  the transition part is considered as a specific configuration: the churn flow. It is supposed that the flow is made of gas slugs, with adapted friction laws (churn regime for the Ishii's law), and a prescribed length scale for the slugs (i.e. the Taylor diameter)."
   ]
  },
  {
   "cell_type": "markdown",
   "metadata": {},
   "source": [
    "##  Drop fragmentation\n",
    "**Hydradynamic fragmentation**\n",
    "This correlation is a linearization of a model describing the coarse fragmentation by Rayleigh Taylor instabilities (acceleration induced)"
   ]
  },
  {
   "cell_type": "markdown",
   "metadata": {},
   "source": [
    "##  Heat transfer & evaporation\n",
    "\n",
    "The two major mechanisms are film boiling and radiation for evaporation.\n",
    "\n",
    "- film boiling: Epstein-Hauser correlation are commenly used.\n",
    "- radiation.\n",
    "\n",
    "Important discrepancies exist regarding to the part of the flux used directly for vapour production, mainly divied into two apporoches, repectively Micro-Interaction &  Direct evaporation apporoch:\n",
    "- ***Micro-interaction***\n",
    "   - It makes the hypothesis that:\n",
    "      - the fragments, the vapor and a given amount of the cold fluid, are mixed together to form a (more or less) homogeneous state generally named m-fluid. This comes from the idea that only a limited amount of water participates in the interaction. \n",
    "      \n",
    "        So finally, in standard Micro-interaction approch, four components (drops, fragments, m-fluid and liquid), three momentum adn energy equation need to be solved (fragments are assumed to be part of m-fluid in thermal and hydrodynamic balance, *Instantaneous*)\n",
    "        \n",
    "        ![micro-interaction](Micro_interaction_explos.png "Micro-interaction illustration") \n",
    "      -  IDEMO: it is made the hypothesis of *a finite time scale* for heat transfer from fragments to  m-fluid. The fragments in IDEMO has thus its own energy balance. \n",
    "\n",
    "- ***Direct Evaporation***\n"
   ]
  },
  {
   "cell_type": "code",
   "execution_count": null,
   "metadata": {},
   "outputs": [],
   "source": []
  },
  {
   "cell_type": "markdown",
   "metadata": {},
   "source": [
    "!ls\n",
    "ad"
   ]
  },
  {
   "cell_type": "markdown",
   "metadata": {},
   "source": [
    "sassd"
   ]
  }
 ],
 "metadata": {
  "kernelspec": {
   "display_name": "Python 3",
   "language": "python",
   "name": "python3"
  },
  "language_info": {
   "codemirror_mode": {
    "name": "ipython",
    "version": 3
   },
   "file_extension": ".py",
   "mimetype": "text/x-python",
   "name": "python",
   "nbconvert_exporter": "python",
   "pygments_lexer": "ipython3",
   "version": "3.6.9"
  },
  "toc": {
   "base_numbering": 1,
   "nav_menu": {},
   "number_sections": true,
   "sideBar": true,
   "skip_h1_title": false,
   "title_cell": "Table of Contents",
   "title_sidebar": "Contents",
   "toc_cell": false,
   "toc_position": {},
   "toc_section_display": true,
   "toc_window_display": true
  }
 },
 "nbformat": 4,
 "nbformat_minor": 4
}
